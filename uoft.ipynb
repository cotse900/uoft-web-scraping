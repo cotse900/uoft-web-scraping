{
 "cells": [
  {
   "cell_type": "code",
   "execution_count": 1,
   "id": "9215de9e-9d03-47ea-92a9-e633c633a08b",
   "metadata": {},
   "outputs": [],
   "source": [
    "import pandas as pd\n",
    "from urllib.parse import urlparse\n",
    "import numpy as np\n",
    "import nltk.data\n",
    "from requests_html import HTMLSession\n",
    "\n",
    "def parse_elements(url,element):\n",
    "    session = HTMLSession()\n",
    "    r = session.get(url)\n",
    "    elements = r.html.find(element)\n",
    "    return [element.text for element in elements]\n",
    "\n",
    "url = 'https://www.utoronto.ca/about-u-of-t/quick-facts'\n",
    "paragraphs = parse_elements(url, 'p')\n",
    "links = parse_elements(url, 'a')"
   ]
  },
  {
   "cell_type": "markdown",
   "id": "10c83182-9799-45b7-8c9b-e6c931a7b536",
   "metadata": {},
   "source": [
    "Insert source from u of t website on quick facts"
   ]
  },
  {
   "cell_type": "code",
   "execution_count": null,
   "id": "d5239617-139d-496b-90be-b0692da67129",
   "metadata": {},
   "outputs": [],
   "source": []
  }
 ],
 "metadata": {
  "kernelspec": {
   "display_name": "Python 3 (ipykernel)",
   "language": "python",
   "name": "python3"
  },
  "language_info": {
   "codemirror_mode": {
    "name": "ipython",
    "version": 3
   },
   "file_extension": ".py",
   "mimetype": "text/x-python",
   "name": "python",
   "nbconvert_exporter": "python",
   "pygments_lexer": "ipython3",
   "version": "3.11.1"
  }
 },
 "nbformat": 4,
 "nbformat_minor": 5
}
